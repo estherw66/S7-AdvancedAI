{
 "cells": [
  {
   "cell_type": "markdown",
   "metadata": {},
   "source": [
    "# Document Summariser\n",
    "The goal of this project is for a user to upload a PDF and receive a translated summary of the document. The text will be translated from English to Spanish. At first I wanted to translate the text from English to Dutch or Dutch to English, but I could not find any usable translation models for Dutch to English, or English to Dutch. For this reason I have chosen for Spanish, since I think it is an interesting language. The target users for this application are people who do not speak Spanish but do speak English and need to translate their documents, but also just want a quick summary so they do not have to read the entire app."
   ]
  },
  {
   "cell_type": "markdown",
   "metadata": {},
   "source": [
    "## Text Extraction\n",
    "First I will extract the text from a PDF file. I will also process the text, so the input text is not too long for the model."
   ]
  },
  {
   "cell_type": "code",
   "execution_count": 11,
   "metadata": {},
   "outputs": [
    {
     "name": "stdout",
     "output_type": "stream",
     "text": [
      "What are the benefits of using a cloud platform?\n",
      "Some benefits of using a cloud platform instead of self-hosting applications include greater\n",
      "elasticity. This means the application can easily scale up and down. When self-hosting\n",
      "scaling out is possible by increasing the servers, this means it’s not as easy as when using a\n",
      "cloud platform. The initial costs of using a cloud platform are also less, because there is no\n",
      "need to invest in expensive servers and hardware. It also speeds up deployment, by\n",
      "enabling deployment anywhere in the world in a matter of minutes. It is also safer and more\n",
      "reliable. Cloud providers invest in security technologies to defend their platforms from threats\n",
      "and outages, providing stronger security than most organisations can implement for their\n",
      "own data centres. They are more reliable because distributed cloud platforms involve\n",
      "multiple servers and sites around the world for greater reliability and faster disaster recovery\n",
      "(What Is a Cloud Platform?, n.d.).\n",
      "What cloud platforms are available?\n",
      "There are multiple different cloud platforms available. The three most popular cloud\n",
      "providers are Amazon Web Services (AWS), Microsoft Azure and Google Cloud Platform\n",
      "(GCP).\n",
      "There are multiple necessary components of the Concert Meetup application that need to be\n",
      "deployed. The front end for the application is a SPA React web app. This is the client\n",
      "interface that needs to be hosted. The backend of the Concert Meetup application is based\n",
      "on a microservices architecture; these microservices will be deployed as a kubernetes\n",
      "cluster. Each microservice also has its own database, to store the data that is necessary for\n",
      "each service. This means a total of 3 SQL databases. To save the images of the artists of\n",
      "the concert and profile pictures of users cloud object storage should be used. Doing this is\n",
      "possible with both Azure, AWS and GCP.\n",
      "For this project Azure will be used for hosting, because students get 100$ in free credits and\n",
      "the backend is made in .NET and Azure is very compatible with .NET. There is also a lot of\n",
      "documentation available on the microsoft learn website.\n",
      "What is Kubernetes?\n",
      "Kubernetes takes care of scaling and failover for an application and provides deployment\n",
      "patterns. If traffic to a container is high, kubernetes can load balance and distribute the\n",
      "network traffic so that the deployment is stable. Kubernetes containers are self healing, this\n",
      "means it restarts containers that fail, replaces containers and kills containers that don’t\n",
      "respond to health checks.\n",
      "Kubernetes is a platform that manages container-based applications and their associated\n",
      "networking and storage components. A kubernetes cluster is divided into two components: a\n",
      "control plane which provides the core Kubernetes services and orchestration of application\n",
      "workloads, and nodes, which run the application workloads.\n"
     ]
    }
   ],
   "source": [
    "import pdfplumber\n",
    "\n",
    "pdf_path = \"./data/cloud-analysis-2.pdf\"\n",
    "\n",
    "text = \"\"\n",
    "with pdfplumber.open(pdf_path) as pdf:\n",
    "    for page in pdf.pages:\n",
    "        text += page.extract_text()\n",
    "\n",
    "print(text)"
   ]
  },
  {
   "cell_type": "code",
   "execution_count": 12,
   "metadata": {},
   "outputs": [],
   "source": [
    "def split_text(text, max_lenght=500):\n",
    "    sentences = text.split('. ')\n",
    "    chunks = []\n",
    "    current_chunk = \"\"\n",
    "    for sentence in sentences:\n",
    "        if len(current_chunk) + len(sentence) + 1 <= max_lenght:\n",
    "            current_chunk += sentence + \". \"\n",
    "        else:\n",
    "            chunks.append(current_chunk.strip())\n",
    "            current_chunk = sentence + \". \"\n",
    "    if current_chunk:\n",
    "        chunks.append(current_chunk.strip())\n",
    "    return chunks"
   ]
  },
  {
   "cell_type": "code",
   "execution_count": 13,
   "metadata": {},
   "outputs": [
    {
     "data": {
      "text/plain": [
       "['What are the benefits of using a cloud platform?\\nSome benefits of using a cloud platform instead of self-hosting applications include greater\\nelasticity. This means the application can easily scale up and down. When self-hosting\\nscaling out is possible by increasing the servers, this means it’s not as easy as when using a\\ncloud platform. The initial costs of using a cloud platform are also less, because there is no\\nneed to invest in expensive servers and hardware.',\n",
       " 'It also speeds up deployment, by\\nenabling deployment anywhere in the world in a matter of minutes. It is also safer and more\\nreliable. Cloud providers invest in security technologies to defend their platforms from threats\\nand outages, providing stronger security than most organisations can implement for their\\nown data centres.',\n",
       " 'They are more reliable because distributed cloud platforms involve\\nmultiple servers and sites around the world for greater reliability and faster disaster recovery\\n(What Is a Cloud Platform?, n.d.).\\nWhat cloud platforms are available?\\nThere are multiple different cloud platforms available.',\n",
       " 'The three most popular cloud\\nproviders are Amazon Web Services (AWS), Microsoft Azure and Google Cloud Platform\\n(GCP).\\nThere are multiple necessary components of the Concert Meetup application that need to be\\ndeployed. The front end for the application is a SPA React web app. This is the client\\ninterface that needs to be hosted. The backend of the Concert Meetup application is based\\non a microservices architecture; these microservices will be deployed as a kubernetes\\ncluster.',\n",
       " 'Each microservice also has its own database, to store the data that is necessary for\\neach service. This means a total of 3 SQL databases. To save the images of the artists of\\nthe concert and profile pictures of users cloud object storage should be used. Doing this is\\npossible with both Azure, AWS and GCP.\\nFor this project Azure will be used for hosting, because students get 100$ in free credits and\\nthe backend is made in .NET and Azure is very compatible with .NET.',\n",
       " 'There is also a lot of\\ndocumentation available on the microsoft learn website.\\nWhat is Kubernetes?\\nKubernetes takes care of scaling and failover for an application and provides deployment\\npatterns. If traffic to a container is high, kubernetes can load balance and distribute the\\nnetwork traffic so that the deployment is stable.',\n",
       " 'Kubernetes containers are self healing, this\\nmeans it restarts containers that fail, replaces containers and kills containers that don’t\\nrespond to health checks.\\nKubernetes is a platform that manages container-based applications and their associated\\nnetworking and storage components. A kubernetes cluster is divided into two components: a\\ncontrol plane which provides the core Kubernetes services and orchestration of application\\nworkloads, and nodes, which run the application workloads..']"
      ]
     },
     "execution_count": 13,
     "metadata": {},
     "output_type": "execute_result"
    }
   ],
   "source": [
    "chunks = split_text(text, max_lenght=500)\n",
    "chunks"
   ]
  },
  {
   "cell_type": "markdown",
   "metadata": {},
   "source": [
    "## Translation\n",
    "Next I will try to translate some text, so I can eventually translate the summary of the uploaded PDF."
   ]
  },
  {
   "cell_type": "code",
   "execution_count": 14,
   "metadata": {},
   "outputs": [],
   "source": [
    "import os\n",
    "os.environ[\"TOKENIZERS_PARALLELISM\"] = \"false\""
   ]
  },
  {
   "cell_type": "markdown",
   "metadata": {},
   "source": [
    "For the translation I will use the MarianMTModel, from the Hugging Face transformers library. A MarianTokenizer will be used to prepare and convert the input text so it can be used by the model. On the huggingface website I found the Helsinki-NLP/opus-mt-en-es model, which is a model that translates text from English to Spanish. After translating the text, the result will be decoded so it is readable."
   ]
  },
  {
   "cell_type": "code",
   "execution_count": 15,
   "metadata": {},
   "outputs": [],
   "source": [
    "from transformers import MarianMTModel, MarianTokenizer\n",
    "\n",
    "model_name = 'Helsinki-NLP/opus-mt-en-es'\n",
    "tokenizer = MarianTokenizer.from_pretrained(model_name)\n",
    "model = MarianMTModel.from_pretrained(model_name)\n",
    "\n",
    "def translate_text(text):\n",
    "    inputs = tokenizer(text, return_tensors='pt', truncation=True, max_length=512)\n",
    "    translated_tokens = model.generate(**inputs)\n",
    "    translated_text = tokenizer.decode(translated_tokens[0], skip_special_tokens=True)\n",
    "    return translated_text"
   ]
  },
  {
   "cell_type": "code",
   "execution_count": 16,
   "metadata": {},
   "outputs": [
    {
     "data": {
      "text/plain": [
       "'Hola, ¿cómo estás?'"
      ]
     },
     "execution_count": 16,
     "metadata": {},
     "output_type": "execute_result"
    }
   ],
   "source": [
    "text = \"Hello, how are you?\"\n",
    "translated_text = translate_text(text)\n",
    "translated_text"
   ]
  },
  {
   "cell_type": "markdown",
   "metadata": {},
   "source": [
    "Translating this simple text shows the translation works."
   ]
  },
  {
   "cell_type": "code",
   "execution_count": 17,
   "metadata": {},
   "outputs": [
    {
     "data": {
      "text/plain": [
       "'¿Cuáles son los beneficios de usar una plataforma en la nube? Algunos beneficios de usar una plataforma en la nube en lugar de aplicaciones de auto-alojamiento incluyen una mayor elasticidad. Esto significa que la aplicación puede escalar y bajar fácilmente. Cuando el auto-alojamiento es posible al aumentar los servidores, esto significa que no es tan fácil como cuando se utiliza una plataforma en la nube. Los costos iniciales de usar una plataforma en la nube también son menores, porque no hay necesidad de invertir en servidores y hardware caros. También acelera el despliegue, al permitir el despliegue en cualquier parte del mundo en cuestión de minutos. También es más seguro y fiable. Los proveedores de Cloud invierten en tecnologías de seguridad para defender sus plataformas de amenazas y interrupciones, proporcionando una seguridad más fuerte de la que la mayoría de las organizaciones pueden implementar para sus propios centros de datos. Son más fiables porque las plataformas de nube distribuidas implican múltiples servidores y sitios alrededor del mundo para una mayor fiabilidad y una recuperación de desastres más rápida (¿Qué es una plataforma de nube?, n.d.). ¿Qué plataformas de nube están disponibles? Hay múltiples plataformas de nube diferentes disponibles. Los tres proveedores de nube más populares son Amazon Web Services (AWS), Microsoft Azure y Google Cloud Platform (GCP). Hay varios componentes necesarios de la aplicación Concert Meetup que necesitan ser implementados. La parte delantera de la aplicación es una aplicación web SPA React. Esta es la interfaz cliente que necesita ser alojada. El backend de la aplicación Concert Meetup se basa en una arquitectura de microservicios; estos microservicios se implementarán como un clúster kubernetes. Cada microservicio también tiene su propia base de datos, para almacenar los datos necesarios para cada servicio. Esto significa un total de 3 bases de datos SQL. Para guardar las imágenes de los artistas del concierto y fotos de perfil de los usuarios debe utilizarse el almacenamiento de objetos en la nube. Hacer esto es posible tanto con Azure, AWS y GCP. Para este proyecto Azure se utilizará para alojar, porque los estudiantes obtienen 100$ en créditos gratuitos y el motor se hace en .NET y Azure es muy compatible con .NET. También hay una gran cantidad de documentación disponible en el sitio web de aprendizaje microsoft. ¿Qué es Kubernetes? Kubernetes se encarga de escalar y failover para una aplicación y proporciona patrones de implementación. Si el tráfico a un contenedor es alto, kubernetes puede cargar el equilibrio y distribuir el tráfico de la red para que el despliegue sea estable. Los contenedores de Kubernetes se autocuran, lo que significa que reinicia los contenedores que fallan, reemplaza los contenedores y mata los contenedores que no responden a los controles de salud. Kubernetes es una plataforma que gestiona aplicaciones basadas en contenedores y sus componentes de red y almacenamiento asociados. Un clúster de kubernetes se divide en dos componentes: un plano de control que proporciona los servicios centrales de Kubernetes y la orquestación de cargas de trabajo de aplicaciones, y nodos, que ejecutan las cargas de trabajo de aplicaciones..'"
      ]
     },
     "execution_count": 17,
     "metadata": {},
     "output_type": "execute_result"
    }
   ],
   "source": [
    "translated_chunks = [translate_text(chunk) for chunk in chunks]\n",
    "full_translation = \" \".join(translated_chunks)\n",
    "full_translation"
   ]
  },
  {
   "cell_type": "markdown",
   "metadata": {},
   "source": [
    "This shows the text that is loaded from the PDF is translated from English to Spanish."
   ]
  },
  {
   "cell_type": "markdown",
   "metadata": {},
   "source": [
    "## Summary\n",
    "Next I will try the summary part. For this I will use the pipeline from the hugging face transformers library, this simplifies the process of using a pre-trained model. The summarisation pipeline will be used for summarising the text. The pretrained model that will be used is facebook/bart-large-cnn, I found this model on the hugging face website. Again, a tokenizer will be used for converting the text into tokens."
   ]
  },
  {
   "cell_type": "code",
   "execution_count": 18,
   "metadata": {},
   "outputs": [
    {
     "name": "stderr",
     "output_type": "stream",
     "text": [
      "Device set to use mps:0\n"
     ]
    }
   ],
   "source": [
    "from transformers import pipeline\n",
    "\n",
    "summariser = pipeline(\"summarization\", model=\"facebook/bart-large-cnn\", tokenizer=\"facebook/bart-large-cnn\")"
   ]
  },
  {
   "cell_type": "code",
   "execution_count": 22,
   "metadata": {},
   "outputs": [],
   "source": [
    "def summarise_text(text, max_length=512, min_length=100):\n",
    "    summarised_text = []\n",
    "\n",
    "    chunks = split_text(text, max_lenght=max_length)\n",
    "    for chunk in chunks:\n",
    "        summary = summariser(chunk, max_length, min_length, do_sample=False)\n",
    "        summarised_text.append(summary[0]['summary_text'])\n",
    "    return \" \".join(summarised_text)"
   ]
  },
  {
   "cell_type": "markdown",
   "metadata": {},
   "source": [
    "Finally I will use the complete models and translate the summarised text."
   ]
  },
  {
   "cell_type": "code",
   "execution_count": 24,
   "metadata": {},
   "outputs": [
    {
     "name": "stderr",
     "output_type": "stream",
     "text": [
      "Ignoring args : (512, 100)\n",
      "Ignoring args : (512, 100)\n",
      "Your max_length is set to 142, but your input_length is only 104. Since this is a summarization task, where outputs shorter than the input are typically wanted, you might consider decreasing max_length manually, e.g. summarizer('...', max_length=52)\n",
      "Ignoring args : (512, 100)\n",
      "Ignoring args : (512, 100)\n",
      "Your max_length is set to 142, but your input_length is only 140. Since this is a summarization task, where outputs shorter than the input are typically wanted, you might consider decreasing max_length manually, e.g. summarizer('...', max_length=70)\n",
      "Ignoring args : (512, 100)\n",
      "Ignoring args : (512, 100)\n",
      "Ignoring args : (512, 100)\n",
      "Ignoring args : (512, 100)\n",
      "Your max_length is set to 142, but your input_length is only 83. Since this is a summarization task, where outputs shorter than the input are typically wanted, you might consider decreasing max_length manually, e.g. summarizer('...', max_length=41)\n"
     ]
    },
    {
     "name": "stdout",
     "output_type": "stream",
     "text": [
      "Summarised Translation:\n",
      "Algunos beneficios de usar una plataforma en la nube incluyen una mayor elasticidad. Esto significa que la aplicación puede escalar y bajar fácilmente. Cuando el auto-alojamiento es posible al aumentar los servidores, esto no es tan fáeasy. Los costos iniciales de usar una plataforma en la nube son menores. No hay necesidad of invertir en servidores y hardware caros. También acelera el despliegue. Los proveedores de Cloud invierten en tecnologías de seguridad para defender sus plataformas de amenazas y interrupciones. Son más fiables porque implican múltiples servidores y sitios alrededor del mundo. Los tres proveedores de nube más populares son Amazon Web Services (AWS), Microsoft Azure y Google Cloud Platform (GCP) Hay varios componentes necesarios de la aplicación Concert Meetup que necesitan ser implementados. El backend de la aplicación Concert Meetup se basa en una arquitectura de microservicios. Cada microservicio también tiene su propia base of datos, para almacenar los datos necesarios for cada servicio. Para guardar las imágenes de los artistas del concierto y fotos de perfil de los usuarios debe utilizarse el almacENamiento de objetos en the nube. El motor se hace en .NET y Azure es muy compatible with .NET. Kubernetes se encarga de escalar y failover para una aplicación. Hacer esto es posible tanto with Azure, AWS y GCP. Kubernetes puede cargar el equilibrio y distribuir el tráfico de la red para que el despliegue sea estable. Los contenedores de Kubernetes se autocuran, lo que significa que reinicia los contenedore que fallan, reemplaza los contensores y mata los contedores that no responden a los controles de salud. Kubernetes se divide en dos componentes: un plano de control que proporciona los servicios centrales de Kubernetes, y nodos, que ejecutan las cargas de trabajo de aplicaciones.\n"
     ]
    }
   ],
   "source": [
    "import warnings\n",
    "warnings.filterwarnings(\"ignore\", category=UserWarning)\n",
    "\n",
    "summarized_translation = summarise_text(full_translation)\n",
    "print(\"Summarised Translation:\")\n",
    "print(summarized_translation)"
   ]
  },
  {
   "cell_type": "markdown",
   "metadata": {},
   "source": [
    "Next I will print the summarised text to a format that is more readable and save the text to a .txt file."
   ]
  },
  {
   "cell_type": "code",
   "execution_count": null,
   "metadata": {},
   "outputs": [
    {
     "name": "stdout",
     "output_type": "stream",
     "text": [
      "¿Cuáles son los beneficios de usar una plataforma en la nube? Algunos beneficios\n",
      "de usar una plataforma en la nube en lugar de aplicaciones de auto-alojamiento\n",
      "incluyen una mayor elasticidad. Esto significa que la aplicación puede escalar y\n",
      "bajar fácilmente. Cuando el auto-alojamiento es posible al aumentar los\n",
      "servidores, esto significa que no es tan fácil como cuando se utiliza una\n",
      "plataforma en la nube. Los costos iniciales de usar una plataforma en la nube\n",
      "también son menores, porque no hay necesidad de invertir en servidores y\n",
      "hardware caros. También acelera el despliegue, al permitir el despliegue en\n",
      "cualquier parte del mundo en cuestión de minutos. También es más seguro y\n",
      "fiable. Los proveedores de Cloud invierten en tecnologías de seguridad para\n",
      "defender sus plataformas de amenazas y interrupciones, proporcionando una\n",
      "seguridad más fuerte de la que la mayoría de las organizaciones pueden\n",
      "implementar para sus propios centros de datos. Son más fiables porque las\n",
      "plataformas de nube distribuidas implican múltiples servidores y sitios\n",
      "alrededor del mundo para una mayor fiabilidad y una recuperación de desastres\n",
      "más rápida (¿Qué es una plataforma de nube?, n.d.). ¿Qué plataformas de nube\n",
      "están disponibles? Hay múltiples plataformas de nube diferentes disponibles. Los\n",
      "tres proveedores de nube más populares son Amazon Web Services (AWS), Microsoft\n",
      "Azure y Google Cloud Platform (GCP). Hay varios componentes necesarios de la\n",
      "aplicación Concert Meetup que necesitan ser implementados. La parte delantera de\n",
      "la aplicación es una aplicación web SPA React. Esta es la interfaz cliente que\n",
      "necesita ser alojada. El backend de la aplicación Concert Meetup se basa en una\n",
      "arquitectura de microservicios; estos microservicios se implementarán como un\n",
      "clúster kubernetes. Cada microservicio también tiene su propia base de datos,\n",
      "para almacenar los datos necesarios para cada servicio. Esto significa un total\n",
      "de 3 bases de datos SQL. Para guardar las imágenes de los artistas del concierto\n",
      "y fotos de perfil de los usuarios debe utilizarse el almacenamiento de objetos\n",
      "en la nube. Hacer esto es posible tanto con Azure, AWS y GCP. Para este proyecto\n",
      "Azure se utilizará para alojar, porque los estudiantes obtienen 100$ en créditos\n",
      "gratuitos y el motor se hace en .NET y Azure es muy compatible con .NET. También\n",
      "hay una gran cantidad de documentación disponible en el sitio web de aprendizaje\n",
      "microsoft. ¿Qué es Kubernetes? Kubernetes se encarga de escalar y failover para\n",
      "una aplicación y proporciona patrones de implementación. Si el tráfico a un\n",
      "contenedor es alto, kubernetes puede cargar el equilibrio y distribuir el\n",
      "tráfico de la red para que el despliegue sea estable. Los contenedores de\n",
      "Kubernetes se autocuran, lo que significa que reinicia los contenedores que\n",
      "fallan, reemplaza los contenedores y mata los contenedores que no responden a\n",
      "los controles de salud. Kubernetes es una plataforma que gestiona aplicaciones\n",
      "basadas en contenedores y sus componentes de red y almacenamiento asociados. Un\n",
      "clúster de kubernetes se divide en dos componentes: un plano de control que\n",
      "proporciona los servicios centrales de Kubernetes y la orquestación de cargas de\n",
      "trabajo de aplicaciones, y nodos, que ejecutan las cargas de trabajo de\n",
      "aplicaciones..\n"
     ]
    }
   ],
   "source": [
    "import textwrap\n",
    "\n",
    "def print_wrapped_text(text, width=80):\n",
    "    wrapped_text = textwrap.fill(text, width=width)\n",
    "    print(wrapped_text)\n",
    "\n",
    "print_wrapped_text(full_translation)"
   ]
  },
  {
   "cell_type": "code",
   "execution_count": 26,
   "metadata": {},
   "outputs": [
    {
     "name": "stdout",
     "output_type": "stream",
     "text": [
      "Translation saved to translated_summary.txt\n"
     ]
    }
   ],
   "source": [
    "with open(\"translated_summary.txt\", \"w\", encoding=\"utf-8\") as file:\n",
    "    file.write(full_translation)\n",
    "\n",
    "print(\"Translation saved to translated_summary.txt\")"
   ]
  },
  {
   "cell_type": "markdown",
   "metadata": {},
   "source": [
    "### Streamlit\n",
    "I have made a streamlit application where the entire process is done, a user can upload a PDF file, the file is then summarised and translated from English into Spanish."
   ]
  }
 ],
 "metadata": {
  "kernelspec": {
   "display_name": "env",
   "language": "python",
   "name": "python3"
  },
  "language_info": {
   "codemirror_mode": {
    "name": "ipython",
    "version": 3
   },
   "file_extension": ".py",
   "mimetype": "text/x-python",
   "name": "python",
   "nbconvert_exporter": "python",
   "pygments_lexer": "ipython3",
   "version": "3.12.6"
  }
 },
 "nbformat": 4,
 "nbformat_minor": 2
}
